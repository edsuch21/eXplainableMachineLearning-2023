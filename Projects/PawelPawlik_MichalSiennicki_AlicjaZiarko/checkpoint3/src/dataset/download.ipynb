{
 "cells": [
  {
   "cell_type": "code",
   "execution_count": 5,
   "metadata": {
    "collapsed": true,
    "pycharm": {
     "name": "#%%\n"
    }
   },
   "outputs": [],
   "source": [
    "# First download `kaggle.json` from kaggle.com -> account_settings -> API -> Create New API Token\n",
    "!mv ~/Downloads/kaggle.json ~/.kaggle/\n",
    "!chmod 600 ~/.kaggle/kaggle.json"
   ]
  },
  {
   "cell_type": "code",
   "execution_count": 6,
   "metadata": {
    "collapsed": false,
    "pycharm": {
     "name": "#%%\n"
    }
   },
   "outputs": [
    {
     "name": "stdout",
     "output_type": "stream",
     "text": [
      "Downloading covidqu.zip to /home/ppawlik-asus/xai_crp_lrp/datasets\n",
      "100%|█████████████████████████████████████▉| 1.15G/1.15G [00:55<00:00, 26.0MB/s]\n",
      "100%|██████████████████████████████████████| 1.15G/1.15G [00:55<00:00, 22.2MB/s]\n"
     ]
    }
   ],
   "source": [
    "!kaggle datasets download -d anasmohammedtahir/covidqu"
   ]
  },
  {
   "cell_type": "code",
   "execution_count": 7,
   "metadata": {
    "collapsed": false,
    "pycharm": {
     "name": "#%%\n"
    }
   },
   "outputs": [
    {
     "name": "stdout",
     "output_type": "stream",
     "text": [
      "Downloading melanoma-external-malignant-256.zip to /home/ppawlik-asus/xai_crp_lrp/datasets\n",
      "100%|█████████████████████████████████████▉| 1.01G/1.01G [00:45<00:00, 29.3MB/s]\n",
      "100%|██████████████████████████████████████| 1.01G/1.01G [00:45<00:00, 23.8MB/s]\n"
     ]
    }
   ],
   "source": [
    "!kaggle datasets download -d nroman/melanoma-external-malignant-256"
   ]
  },
  {
   "cell_type": "code",
   "execution_count": 8,
   "metadata": {
    "collapsed": false,
    "pycharm": {
     "name": "#%%\n"
    }
   },
   "outputs": [],
   "source": [
    "!unzip -qq covidqu.zip -d covid\n",
    "!unzip -qq melanoma-external-malignant-256.zip -d melanoma"
   ]
  }
 ],
 "metadata": {
  "kernelspec": {
   "display_name": "Python 3.10.6 ('venv_xai': venv)",
   "language": "python",
   "name": "python3"
  },
  "language_info": {
   "codemirror_mode": {
    "name": "ipython",
    "version": 3
   },
   "file_extension": ".py",
   "mimetype": "text/x-python",
   "name": "python",
   "nbconvert_exporter": "python",
   "pygments_lexer": "ipython3",
   "version": "3.10.6"
  },
  "vscode": {
   "interpreter": {
    "hash": "a7bc52b2cf0b457b306005aeaa02d22640a06d6343f8702aea061c435dc70563"
   }
  }
 },
 "nbformat": 4,
 "nbformat_minor": 0
}
